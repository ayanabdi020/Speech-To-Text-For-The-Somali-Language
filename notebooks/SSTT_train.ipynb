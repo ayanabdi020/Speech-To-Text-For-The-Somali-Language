{
 "cells": [
  {
   "cell_type": "markdown",
   "id": "bde02442",
   "metadata": {},
   "source": [
    "## Somali Speech To Text (SSTT) - Model Training"
   ]
  },
  {
   "cell_type": "markdown",
   "id": "902df43e",
   "metadata": {},
   "source": [
    "#### Model training: \n",
    "The model will be trained on the pre-processed data. To ensure that our model trained faster, we'll might need to look into Google Colab subsription plan to train our model using GPU 😊 - https://colab.research.google.com/notebooks/gpu.ipynb\n",
    "\n",
    "#### Model evaluation: \n",
    "Once the model is trained, it must be evaluated on unseen data to ensure that it is accurate."
   ]
  },
  {
   "cell_type": "code",
   "execution_count": null,
   "id": "745ebb1c",
   "metadata": {},
   "outputs": [],
   "source": []
  },
  {
   "cell_type": "code",
   "execution_count": null,
   "id": "f6f94c97",
   "metadata": {},
   "outputs": [],
   "source": []
  }
 ],
 "metadata": {
  "kernelspec": {
   "display_name": "Python 3 (ipykernel)",
   "language": "python",
   "name": "python3"
  },
  "language_info": {
   "codemirror_mode": {
    "name": "ipython",
    "version": 3
   },
   "file_extension": ".py",
   "mimetype": "text/x-python",
   "name": "python",
   "nbconvert_exporter": "python",
   "pygments_lexer": "ipython3",
   "version": "3.8.10"
  }
 },
 "nbformat": 4,
 "nbformat_minor": 5
}
